{
 "cells": [
  {
   "cell_type": "code",
   "execution_count": 11,
   "metadata": {},
   "outputs": [],
   "source": [
    "import torch\n",
    "import torch.nn.functional as F\n",
    "import matplotlib.pyplot as plt \n",
    "\n",
    "# reads in all the words\n",
    "words = open(\"names.txt\", 'r').read().splitlines()\n",
    "\n",
    "# building encoder\n",
    "chars = sorted(list(set(''.join(words))))\n",
    "stoi = {s:i+1 for i, s in enumerate(chars)}\n",
    "stoi['.'] = 0\n",
    "itos = {i:s for s, i in stoi.items()}\n",
    "\n",
    "# set parameters\n",
    "n_hidden = 100\n",
    "n_embd = 2\n",
    "numb_tests = 1000\n",
    "block_size = 3 # context, number of characters taken in to predict the next\n",
    "vocab_size = len(itos)\n",
    "\n",
    "\n",
    "g = torch.Generator().manual_seed(2147483647)\n",
    "C = torch.randn((vocab_size, n_embd), generator=g) # embed table, 27 rows for 27 characters, crammed into a two dimensional space(each character has a 2d embedding)\n",
    "W1 = torch.randn((block_size*n_embd, n_hidden), generator=g) # first number corresponds to the number of embeddings in emb, which for each data point is 3, 2 = 6. Second num is number of neurons\n",
    "b1 = torch.randn(n_hidden, generator=g)\n",
    "W2 = torch.randn((n_hidden, vocab_size), generator=g)*0.01 #output is number of characters, made smaller to minimize logits on first iteration\n",
    "b2 = torch.randn(vocab_size, generator=g) * 0 # makes biases all 0 and equal at initialization\n",
    "parameters = [C, b1, W2, b2, W1]\n",
    "for p in parameters:\n",
    "    p.requires_grad = True"
   ]
  },
  {
   "cell_type": "code",
   "execution_count": 12,
   "metadata": {},
   "outputs": [],
   "source": [
    "def build_dataset(words):\n",
    "    X, Y = [], []\n",
    "    for w in words:\n",
    "        context = [0] * block_size # padding with [0] = '.'\n",
    "        for ch in w + '.':\n",
    "            ix = stoi[ch]\n",
    "            X.append(context)\n",
    "            Y.append(ix) \n",
    "            context = context[1:] + [ix]\n",
    "    X = torch.tensor(X)\n",
    "    Y = torch.tensor(Y)\n",
    "    return X, Y\n",
    " # training split, dev/validation split, test split\n",
    " # 80%, 10%, 10%\n",
    "import random\n",
    "random.seed(42)\n",
    "random.shuffle(words)\n",
    "n1 = int(0.8*len(words))\n",
    "n2 = int(0.9*len(words))\n",
    "Xtr, Ytr = build_dataset(words[:n1])\n",
    "Xdev, Ydev = build_dataset(words[n1:n2])\n",
    "Xte, Yte = build_dataset(words[n2:])"
   ]
  },
  {
   "cell_type": "code",
   "execution_count": 13,
   "metadata": {},
   "outputs": [],
   "source": [
    "emb = C[Xtr]\n",
    "embcat = emb.view(emb.shape[0], -1) # concatenates the vectors\n",
    "hpreact = embcat @ W1 + b1 # hidden layer pre-activation, note that since the equation of self_grad of a neuron is proportional to (1-hpreact**2), this can only ever decrease, and\n",
    "                           # approaches zero whenever t approaches abs(1) \n",
    "h = torch.tanh(hpreact) # activation of hidden states/hidden layer\n",
    "logits = h @ W2 + b2 \n",
    "loss = F.cross_entropy(logits, Ytr) "
   ]
  },
  {
   "cell_type": "code",
   "execution_count": 15,
   "metadata": {},
   "outputs": [],
   "source": [
    "lossi = []\n",
    "stepi = []\n",
    "batch_size = 32\n",
    "# backward pass\n",
    "for i in range(numb_tests):\n",
    "    # minibatch construct\n",
    "    ix = torch.randint(0, Xtr.shape[0], (batch_size, )) # list of 32 integers that index into the data, e.g their range is between 0 and number of data inputs,\n",
    "    \n",
    "\n",
    "    # forward pass\n",
    "    emb = C[Xtr[ix]] # shape = (X.shape[0], block_size, n_hidden)\n",
    "    h = torch.tanh(emb.view(emb.shape[0], -1) @ W1 + b1) # hidden layer\n",
    "    logits = h @ W2 + b2 # output layer\n",
    "    loss = F.cross_entropy(logits, Ytr[ix]) # loss function\n",
    "    for p in parameters:\n",
    "        p.grad = None\n",
    "\n",
    "    loss.backward() # updates gradients for each neuron\n",
    "\n",
    "    # update\n",
    "    lr = 0.1 if i < (numb_tests/2) else 0.01\n",
    "    for p in parameters:\n",
    "        p.data += -lr * p.grad # adjust data according to gradient\n",
    "    lossi.append(loss.item())\n",
    "    stepi.append(i)\n"
   ]
  },
  {
   "cell_type": "code",
   "execution_count": 16,
   "metadata": {},
   "outputs": [
    {
     "data": {
      "text/plain": [
       "<matplotlib.image.AxesImage at 0x285c1a8a1d0>"
      ]
     },
     "execution_count": 16,
     "metadata": {},
     "output_type": "execute_result"
    },
    {
     "data": {
      "image/png": "[encoded data removed]",
      "text/plain": [
       "<Figure size 2000x1000 with 1 Axes>"
      ]
     },
     "metadata": {},
     "output_type": "display_data"
    }
   ],
   "source": [
    "plt.figure(figsize=(20, 10))\n",
    "plt.imshow(h.abs() > 0.99, cmap='gray', interpolation='nearest')"
   ]
  },
  {
   "cell_type": "code",
   "execution_count": null,
   "metadata": {},
   "outputs": [],
   "source": []
  }
 ],
 "metadata": {
  "kernelspec": {
   "display_name": "Python 3",
   "language": "python",
   "name": "python3"
  },
  "language_info": {
   "codemirror_mode": {
    "name": "ipython",
    "version": 3
   },
   "file_extension": ".py",
   "mimetype": "text/x-python",
   "name": "python",
   "nbconvert_exporter": "python",
   "pygments_lexer": "ipython3",
   "version": "3.11.6"
  }
 },
 "nbformat": 4,
 "nbformat_minor": 2
}
