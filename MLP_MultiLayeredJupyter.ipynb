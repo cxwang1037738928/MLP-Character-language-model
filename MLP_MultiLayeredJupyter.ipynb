{
 "cells": [
  {
   "cell_type": "code",
   "execution_count": 96,
   "metadata": {},
   "outputs": [],
   "source": [
    "import torch\n",
    "import torch.nn.functional as F\n",
    "import matplotlib.pyplot as plt \n",
    "\n",
    "# reads in all the words\n",
    "words = open(\"names.txt\", 'r').read().splitlines()\n",
    "\n",
    "# building encoder\n",
    "chars = sorted(list(set(''.join(words))))\n",
    "stoi = {s:i+1 for i, s in enumerate(chars)}\n",
    "stoi['.'] = 0\n",
    "itos = {i:s for s, i in stoi.items()}\n",
    "\n",
    "# set parameters\n",
    "n_hidden = 200\n",
    "n_embd = 10\n",
    "numb_tests = 10000\n",
    "block_size = 10 # context, number of characters taken in to predict the next\n",
    "vocab_size = len(itos)\n",
    "\n",
    "\n",
    "g = torch.Generator().manual_seed(2147483647)\n",
    "C = torch.randn((vocab_size, n_embd), generator=g) # embed table, 27 rows for 27 characters, crammed into a two dimensional space(each character has a 2d embedding)\n",
    "W1 = torch.randn((block_size*n_embd, n_hidden), generator=g)*(5/3)/((block_size*n_embd)**0.5)  # kaiming init for non-linear\n",
    "#b1 = torch.randn(n_hidden, generator=g) * 0.01 wiped out by batch normalization's (hpreact - bnmeani)\n",
    "W2 = torch.randn((n_hidden, vocab_size), generator=g)*0.01 #output is number of characters, made smaller to minimize logits on first iteration\n",
    "b2 = torch.randn(vocab_size, generator=g) * 0 # makes biases all 0 and equal at initialization\n",
    "\n",
    "# parameters of batch normalization\n",
    "bngain = torch.ones((1, n_hidden))\n",
    "bnbias = torch.zeros((1, n_hidden)) # replaces b1\n",
    "\n",
    "# buffers of batch normalization\n",
    "bnmean_running = torch.zeros((1, n_hidden))\n",
    "bnstd_running = torch.ones((1, n_hidden))\n",
    "\n",
    "parameters = [C, W2, b2, W1, bngain, bnbias]\n",
    "for p in parameters:\n",
    "    p.requires_grad = True"
   ]
  },
  {
   "cell_type": "code",
   "execution_count": 97,
   "metadata": {},
   "outputs": [
    {
     "data": {
      "text/plain": [
       "tensor(0.2023)"
      ]
     },
     "execution_count": 97,
     "metadata": {},
     "output_type": "execute_result"
    }
   ],
   "source": [
    "std = 0.2\n",
    "(torch.randn(10000)*std).std()"
   ]
  },
  {
   "cell_type": "code",
   "execution_count": 98,
   "metadata": {},
   "outputs": [],
   "source": [
    "def build_dataset(words):\n",
    "    X, Y = [], []\n",
    "    for w in words:\n",
    "        context = [0] * block_size # padding with [0] = '.'\n",
    "        for ch in w + '.':\n",
    "            ix = stoi[ch]\n",
    "            X.append(context)\n",
    "            Y.append(ix) \n",
    "            context = context[1:] + [ix]\n",
    "    X = torch.tensor(X)\n",
    "    Y = torch.tensor(Y)\n",
    "    return X, Y\n",
    " # training split, dev/validation split, test split\n",
    " # 80%, 10%, 10%\n",
    "import random\n",
    "random.seed(42)\n",
    "random.shuffle(words)\n",
    "n1 = int(0.8*len(words))\n",
    "n2 = int(0.9*len(words))\n",
    "Xtr, Ytr = build_dataset(words[:n1])\n",
    "Xdev, Ydev = build_dataset(words[n1:n2])\n",
    "Xte, Yte = build_dataset(words[n2:])"
   ]
  },
  {
   "cell_type": "code",
   "execution_count": 100,
   "metadata": {},
   "outputs": [],
   "source": [
    "emb = C[Xtr]\n",
    "embcat = emb.view(emb.shape[0], -1) # concatenates the vectors\n",
    "hpreact = embcat @ W1  # hidden layer pre-activation, note that since the equation of self_grad of a neuron is proportional to (1-hpreact**2), this can only ever decrease, and\n",
    "                           # approaches zero whenever t approaches abs(1) \n",
    "h = torch.tanh(hpreact) # activation of hidden states/hidden layer\n",
    "logits = h @ W2 + b2 \n",
    "loss = F.cross_entropy(logits, Ytr) "
   ]
  },
  {
   "cell_type": "code",
   "execution_count": null,
   "metadata": {},
   "outputs": [],
   "source": [
    "lossi = []\n",
    "stepi = []\n",
    "batch_size = 32\n",
    "# backward pass\n",
    "for i in range(numb_tests):\n",
    "    # minibatch construct\n",
    "    ix = torch.randint(0, Xtr.shape[0], (batch_size, )) # list of 32 integers that index into the data, e.g their range is between 0 and number of data inputs,\n",
    "    \n",
    "\n",
    "    # forward pass\n",
    "    emb = C[Xtr[ix]] # shape = (X.shape[0], block_size, n_hidden)\n",
    "    embcat = emb.view(emb.shape[0], -1)\n",
    "    \n",
    "    hpreact = embcat @ W1 #+ b1\n",
    "    bnmeani = hpreact.mean(0, keepdim=True)\n",
    "    bnstdi = hpreact.std(0, keepdim=True)\n",
    "    hpreact = bngain * (hpreact - bnmeani) / bnstdi + bnbias # bngain and bnbias will be 1 and 0 at init, but will be changed by back prop\n",
    "\n",
    "    # updates batch mean and std as its running\n",
    "    with torch.no_grad():\n",
    "        bnmean_running = 0.999 * bnmean_running + 0.001 * bnmeani\n",
    "        bnstd_running = 0.999 * bnstd_running + 0.001 * bnstdi\n",
    "\n",
    "    h = torch.tanh(hpreact) # hidden layer\n",
    "    logits = h @ W2 + b2 # output layer\n",
    "    loss = F.cross_entropy(logits, Ytr[ix]) # loss function\n",
    "    \n",
    "    for p in parameters:\n",
    "        p.grad = None\n",
    "\n",
    "    loss.backward() # updates gradients for each neuron\n",
    "\n",
    "    # update\n",
    "    lr = 0.1 if i < (numb_tests/2) else 0.01\n",
    "    for p in parameters:\n",
    "        p.data += -lr * p.grad # adjust data according to gradient\n",
    "    lossi.append(loss.item())\n",
    "    stepi.append(i)\n"
   ]
  },
  {
   "cell_type": "code",
   "execution_count": null,
   "metadata": {},
   "outputs": [
    {
     "data": {
      "text/plain": [
       "<matplotlib.image.AxesImage at 0x253b32953d0>"
      ]
     },
     "execution_count": 92,
     "metadata": {},
     "output_type": "execute_result"
    },
    {
     "data": {
      "image/png": "[encoded data removed]",
      "text/plain": [
       "<Figure size 2000x1000 with 1 Axes>"
      ]
     },
     "metadata": {},
     "output_type": "display_data"
    }
   ],
   "source": [
    "plt.figure(figsize=(20, 10))\n",
    "plt.imshow(h.abs() > 0.99, cmap='gray', interpolation='nearest')"
   ]
  },
  {
   "cell_type": "code",
   "execution_count": null,
   "metadata": {},
   "outputs": [],
   "source": [
    "# Calibrate the batch norm at the end of training\n",
    "\n",
    "# with torch.no_grad(): # Does not keep track of grad for this function\n",
    "#     # pass the training set through\n",
    "#     emb = C[Xtr]\n",
    "#     embcat = emb.view(emb.shape[0], -1)\n",
    "#     hpreact = embcat @ W1 + b1\n",
    "#     # measure the mean/std over the entire training set, now mean/std are fixed tensors, makes sampling easier now that we don't need batch_size number of inputs to estimate h\n",
    "#     bnmean = hpreact.mean(0, keepdim=True)\n",
    "#     bnstd = hpreact.std(0, keepdim=True)"
   ]
  },
  {
   "cell_type": "code",
   "execution_count": null,
   "metadata": {},
   "outputs": [
    {
     "name": "stdout",
     "output_type": "stream",
     "text": [
      "train 2.068458318710327\n",
      "val 2.1092183589935303\n"
     ]
    }
   ],
   "source": [
    "@torch.no_grad() # decorator to disable gradient tracking for all tensors in this function\n",
    "def split_loss(split):\n",
    "    x, y = {\n",
    "        'train': (Xtr, Ytr),\n",
    "        'val': (Xdev, Ydev),\n",
    "        'test': (Xte, Yte)\n",
    "    }[split]\n",
    "    emb = C[x] # (N, block_size, n_embd)\n",
    "    embcat = emb.view(emb.shape[0], -1)\n",
    "    hpreact = embcat @ W1 #+ b1 # linear layer\n",
    "    hpreact = bngain * (hpreact - bnmean_running) / bnstd_running + bnbias # now function of all examples in the batch, noise regularizes neural net\n",
    "    h = torch.tanh(hpreact) # (N, n_hidden)\n",
    "    logits = h @ W2 + b2 # (N, vocab_size)\n",
    "    loss = F.cross_entropy(logits, y)\n",
    "    print(split, loss.item())\n",
    "split_loss('train')\n",
    "split_loss('val')"
   ]
  },
  {
   "cell_type": "code",
   "execution_count": null,
   "metadata": {},
   "outputs": [
    {
     "name": "stdout",
     "output_type": "stream",
     "text": [
      "caillianord.\n",
      "kenie.\n",
      "veouh.\n",
      "ild.\n",
      "makehlie.\n",
      "grishemileigh.\n",
      "brodessam.\n",
      "maleck.\n",
      "arril.\n",
      "jakyorette.\n"
     ]
    }
   ],
   "source": [
    "for _ in range(10):\n",
    "    out = []\n",
    "    context = [0] * block_size\n",
    "    while True:\n",
    "        emb = C[torch.tensor([context])] # (1, block_size, d)\n",
    "        embcat = emb.view(1, -1)\n",
    "        hpreact = embcat @ W1\n",
    "        hpreact = bngain * (hpreact - bnmean_running) / bnstd_running + bnbias\n",
    "        h = torch.tanh(hpreact)\n",
    "        logits = h @ W2 + b2\n",
    "        probs = F.softmax(logits, dim=1)\n",
    "        ix = torch.multinomial(probs, num_samples=1, generator=g).item()\n",
    "        context = context[1:] + [ix]\n",
    "        out.append(ix)\n",
    "        if ix == 0:\n",
    "            break\n",
    "    print(''.join(itos[i] for i in out))"
   ]
  }
 ],
 "metadata": {
  "kernelspec": {
   "display_name": "Python 3",
   "language": "python",
   "name": "python3"
  },
  "language_info": {
   "codemirror_mode": {
    "name": "ipython",
    "version": 3
   },
   "file_extension": ".py",
   "mimetype": "text/x-python",
   "name": "python",
   "nbconvert_exporter": "python",
   "pygments_lexer": "ipython3",
   "version": "3.11.6"
  }
 },
 "nbformat": 4,
 "nbformat_minor": 2
}
